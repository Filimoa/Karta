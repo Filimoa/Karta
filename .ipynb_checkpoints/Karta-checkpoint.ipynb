{
 "cells": [
  {
   "cell_type": "code",
   "execution_count": 2,
   "metadata": {},
   "outputs": [],
   "source": [
    "#import necessary libraries\n",
    "import numpy as np \n",
    "import pandas as pd\n",
    "import plotly\n",
    "import plotly.express as px\n",
    "\n",
    "import requests\n",
    "import json\n",
    "import random\n",
    "\n",
    "from uszipcode import SearchEngine\n",
    "from darksky.api import DarkSky, DarkSkyAsync\n",
    "from darksky.types import languages, units, weather\n",
    "\n",
    "\n",
    "pd.set_option('display.max_columns', None)\n",
    "MAPBOX_TOKEN = 'pk.eyJ1Ijoic2VyamVzdGVyIiwiYSI6ImNqeWV0ZWZsNTE0ejEzbHM4dnk5eWU2Z2cifQ.530rMydViqZBXBwPp6oLeQ'"
   ]
  },
  {
   "cell_type": "code",
   "execution_count": null,
   "metadata": {},
   "outputs": [],
   "source": [
    "## steps\n",
    "\n",
    "# INITIAL, GETS AN MVP (offline)\n",
    "# get historic weather data\n",
    "    # Status: doable , running into time stamp issues (1 - 4 hrs)\n",
    "# color map based on snowfall\n",
    "    # Status: doable (2 - 4 hrs)\n",
    "# make resort points visible\n",
    "    # Unknown\n",
    "# add information on each resort\n",
    "\n",
    "# BUILDING ON THE MVP (user feedback)\n",
    "# possible incorporating same layout as apartments.com\n",
    "# html base map with resort coming up to the right\n",
    "\n",
    "# SENDING IT LIVE\n",
    "\n",
    "# \n"
   ]
  },
  {
   "cell_type": "code",
   "execution_count": null,
   "metadata": {},
   "outputs": [],
   "source": [
    "\n"
   ]
  },
  {
   "cell_type": "code",
   "execution_count": 4,
   "metadata": {},
   "outputs": [
    {
     "data": {
      "text/html": [
       "<div>\n",
       "<style scoped>\n",
       "    .dataframe tbody tr th:only-of-type {\n",
       "        vertical-align: middle;\n",
       "    }\n",
       "\n",
       "    .dataframe tbody tr th {\n",
       "        vertical-align: top;\n",
       "    }\n",
       "\n",
       "    .dataframe thead th {\n",
       "        text-align: right;\n",
       "    }\n",
       "</style>\n",
       "<table border=\"1\" class=\"dataframe\">\n",
       "  <thead>\n",
       "    <tr style=\"text-align: right;\">\n",
       "      <th></th>\n",
       "      <th>Unnamed: 0</th>\n",
       "      <th>lat</th>\n",
       "      <th>long</th>\n",
       "      <th>resort_name</th>\n",
       "      <th>continent</th>\n",
       "      <th>country</th>\n",
       "      <th>state</th>\n",
       "      <th>url</th>\n",
       "      <th>altitude</th>\n",
       "      <th>easy</th>\n",
       "      <th>medium</th>\n",
       "      <th>hard</th>\n",
       "      <th>Funicular</th>\n",
       "      <th>Circulating ropeway/gondola lift</th>\n",
       "      <th>chairlift</th>\n",
       "      <th>T-bar lift/platter/button lift</th>\n",
       "      <th>Sunkid Moving Carpet</th>\n",
       "      <th>Adult</th>\n",
       "      <th>Youth</th>\n",
       "      <th>Child</th>\n",
       "      <th>Currency</th>\n",
       "      <th>ski_resort_size</th>\n",
       "      <th>num_runs</th>\n",
       "      <th>Lifts and cable cars</th>\n",
       "      <th>Snow reliability</th>\n",
       "      <th>Slope preparation</th>\n",
       "      <th>Access, on-site parking</th>\n",
       "      <th>Orientation (trail map, information boards, sign-postings)</th>\n",
       "      <th>Cleanliness and hygiene</th>\n",
       "      <th>Environmentally friendly ski operation</th>\n",
       "      <th>Friendliness of staff</th>\n",
       "      <th>Mountain restaurants, ski huts, gastronomy</th>\n",
       "      <th>Aprs-ski</th>\n",
       "      <th>Accommodation offering directly at the slopes and lifts</th>\n",
       "      <th>Families and children</th>\n",
       "      <th>Beginners</th>\n",
       "      <th>Advanced skiers, freeriders</th>\n",
       "      <th>Snow parks</th>\n",
       "      <th>Cross-country skiing and trails</th>\n",
       "      <th>Aerial tramway/reversible ropeway</th>\n",
       "      <th>Rope tow/beginner lift</th>\n",
       "      <th>People mover</th>\n",
       "      <th>Combined installation (gondola and chair)</th>\n",
       "      <th>Cog railway</th>\n",
       "      <th>Helicopter for Heli-skiing</th>\n",
       "      <th>Snow caterpillars for Cat-skiing</th>\n",
       "    </tr>\n",
       "  </thead>\n",
       "  <tbody>\n",
       "    <tr>\n",
       "      <th>0</th>\n",
       "      <td>199</td>\n",
       "      <td>39.6425</td>\n",
       "      <td>105.8719</td>\n",
       "      <td>arapahoe-basin</td>\n",
       "      <td>North America</td>\n",
       "      <td>USA</td>\n",
       "      <td>Colorado</td>\n",
       "      <td>http://www.skiresort.info/ski-resort/arapahoe-...</td>\n",
       "      <td>3790</td>\n",
       "      <td>40.0</td>\n",
       "      <td>25.0</td>\n",
       "      <td>40.0</td>\n",
       "      <td>NaN</td>\n",
       "      <td>NaN</td>\n",
       "      <td>0.0</td>\n",
       "      <td>NaN</td>\n",
       "      <td>NaN</td>\n",
       "      <td>100</td>\n",
       "      <td>85</td>\n",
       "      <td>52</td>\n",
       "      <td>US Dollar</td>\n",
       "      <td>3.0</td>\n",
       "      <td>5.0</td>\n",
       "      <td>3.0</td>\n",
       "      <td>5.0</td>\n",
       "      <td>4.0</td>\n",
       "      <td>4.0</td>\n",
       "      <td>4.0</td>\n",
       "      <td>4.0</td>\n",
       "      <td>4.0</td>\n",
       "      <td>4.0</td>\n",
       "      <td>3.0</td>\n",
       "      <td>2.0</td>\n",
       "      <td>1.0</td>\n",
       "      <td>3.0</td>\n",
       "      <td>3.0</td>\n",
       "      <td>5.0</td>\n",
       "      <td>5.0</td>\n",
       "      <td>1.0</td>\n",
       "      <td>NaN</td>\n",
       "      <td>NaN</td>\n",
       "      <td>0.0</td>\n",
       "      <td>NaN</td>\n",
       "      <td>NaN</td>\n",
       "      <td>NaN</td>\n",
       "      <td>NaN</td>\n",
       "    </tr>\n",
       "    <tr>\n",
       "      <th>1</th>\n",
       "      <td>252</td>\n",
       "      <td>39.1823</td>\n",
       "      <td>106.8555</td>\n",
       "      <td>aspen-highlands</td>\n",
       "      <td>North America</td>\n",
       "      <td>USA</td>\n",
       "      <td>Colorado</td>\n",
       "      <td>http://www.skiresort.info/ski-resort/aspen-hig...</td>\n",
       "      <td>3559</td>\n",
       "      <td>24.3</td>\n",
       "      <td>40.5</td>\n",
       "      <td>70.2</td>\n",
       "      <td>NaN</td>\n",
       "      <td>NaN</td>\n",
       "      <td>0.0</td>\n",
       "      <td>NaN</td>\n",
       "      <td>NaN</td>\n",
       "      <td>169</td>\n",
       "      <td>0</td>\n",
       "      <td>112</td>\n",
       "      <td>US Dollar</td>\n",
       "      <td>4.0</td>\n",
       "      <td>5.0</td>\n",
       "      <td>4.0</td>\n",
       "      <td>5.0</td>\n",
       "      <td>4.0</td>\n",
       "      <td>2.0</td>\n",
       "      <td>4.0</td>\n",
       "      <td>4.0</td>\n",
       "      <td>4.0</td>\n",
       "      <td>5.0</td>\n",
       "      <td>4.0</td>\n",
       "      <td>3.0</td>\n",
       "      <td>4.0</td>\n",
       "      <td>2.0</td>\n",
       "      <td>3.0</td>\n",
       "      <td>5.0</td>\n",
       "      <td>2.0</td>\n",
       "      <td>3.0</td>\n",
       "      <td>NaN</td>\n",
       "      <td>NaN</td>\n",
       "      <td>NaN</td>\n",
       "      <td>NaN</td>\n",
       "      <td>NaN</td>\n",
       "      <td>NaN</td>\n",
       "      <td>0.0</td>\n",
       "    </tr>\n",
       "    <tr>\n",
       "      <th>2</th>\n",
       "      <td>253</td>\n",
       "      <td>NaN</td>\n",
       "      <td>NaN</td>\n",
       "      <td>aspen-mountain</td>\n",
       "      <td>North America</td>\n",
       "      <td>USA</td>\n",
       "      <td>Colorado</td>\n",
       "      <td>http://www.skiresort.info/ski-resort/aspen-mou...</td>\n",
       "      <td>3418</td>\n",
       "      <td>0.0</td>\n",
       "      <td>49.0</td>\n",
       "      <td>54.0</td>\n",
       "      <td>NaN</td>\n",
       "      <td>0.0</td>\n",
       "      <td>0.0</td>\n",
       "      <td>NaN</td>\n",
       "      <td>NaN</td>\n",
       "      <td>169</td>\n",
       "      <td>0</td>\n",
       "      <td>112</td>\n",
       "      <td>US Dollar</td>\n",
       "      <td>3.0</td>\n",
       "      <td>4.0</td>\n",
       "      <td>4.0</td>\n",
       "      <td>4.0</td>\n",
       "      <td>5.0</td>\n",
       "      <td>2.0</td>\n",
       "      <td>4.0</td>\n",
       "      <td>4.0</td>\n",
       "      <td>4.0</td>\n",
       "      <td>5.0</td>\n",
       "      <td>3.0</td>\n",
       "      <td>4.0</td>\n",
       "      <td>4.0</td>\n",
       "      <td>1.0</td>\n",
       "      <td>1.0</td>\n",
       "      <td>5.0</td>\n",
       "      <td>1.0</td>\n",
       "      <td>3.0</td>\n",
       "      <td>NaN</td>\n",
       "      <td>NaN</td>\n",
       "      <td>NaN</td>\n",
       "      <td>NaN</td>\n",
       "      <td>NaN</td>\n",
       "      <td>NaN</td>\n",
       "      <td>NaN</td>\n",
       "    </tr>\n",
       "    <tr>\n",
       "      <th>3</th>\n",
       "      <td>369</td>\n",
       "      <td>39.6042</td>\n",
       "      <td>106.5165</td>\n",
       "      <td>beaver-creek</td>\n",
       "      <td>North America</td>\n",
       "      <td>USA</td>\n",
       "      <td>Colorado</td>\n",
       "      <td>http://www.skiresort.info/ski-resort/beaver-cr...</td>\n",
       "      <td>3488</td>\n",
       "      <td>28.5</td>\n",
       "      <td>64.5</td>\n",
       "      <td>57.0</td>\n",
       "      <td>NaN</td>\n",
       "      <td>0.0</td>\n",
       "      <td>0.0</td>\n",
       "      <td>NaN</td>\n",
       "      <td>NaN</td>\n",
       "      <td>189</td>\n",
       "      <td>0</td>\n",
       "      <td>130</td>\n",
       "      <td>US Dollar</td>\n",
       "      <td>4.0</td>\n",
       "      <td>5.0</td>\n",
       "      <td>4.0</td>\n",
       "      <td>5.0</td>\n",
       "      <td>5.0</td>\n",
       "      <td>4.0</td>\n",
       "      <td>5.0</td>\n",
       "      <td>4.0</td>\n",
       "      <td>3.0</td>\n",
       "      <td>5.0</td>\n",
       "      <td>4.0</td>\n",
       "      <td>4.0</td>\n",
       "      <td>5.0</td>\n",
       "      <td>5.0</td>\n",
       "      <td>5.0</td>\n",
       "      <td>5.0</td>\n",
       "      <td>5.0</td>\n",
       "      <td>3.0</td>\n",
       "      <td>NaN</td>\n",
       "      <td>NaN</td>\n",
       "      <td>0.0</td>\n",
       "      <td>0.0</td>\n",
       "      <td>NaN</td>\n",
       "      <td>NaN</td>\n",
       "      <td>NaN</td>\n",
       "    </tr>\n",
       "    <tr>\n",
       "      <th>4</th>\n",
       "      <td>577</td>\n",
       "      <td>39.4817</td>\n",
       "      <td>106.0384</td>\n",
       "      <td>breckenridge</td>\n",
       "      <td>North America</td>\n",
       "      <td>USA</td>\n",
       "      <td>Colorado</td>\n",
       "      <td>http://www.skiresort.info/ski-resort/breckenri...</td>\n",
       "      <td>3914</td>\n",
       "      <td>28.0</td>\n",
       "      <td>60.0</td>\n",
       "      <td>65.0</td>\n",
       "      <td>NaN</td>\n",
       "      <td>0.0</td>\n",
       "      <td>0.0</td>\n",
       "      <td>0.0</td>\n",
       "      <td>0.0</td>\n",
       "      <td>164</td>\n",
       "      <td>0</td>\n",
       "      <td>107</td>\n",
       "      <td>US Dollar</td>\n",
       "      <td>4.0</td>\n",
       "      <td>5.0</td>\n",
       "      <td>4.0</td>\n",
       "      <td>5.0</td>\n",
       "      <td>4.0</td>\n",
       "      <td>3.0</td>\n",
       "      <td>5.0</td>\n",
       "      <td>4.0</td>\n",
       "      <td>3.0</td>\n",
       "      <td>5.0</td>\n",
       "      <td>4.0</td>\n",
       "      <td>4.0</td>\n",
       "      <td>5.0</td>\n",
       "      <td>5.0</td>\n",
       "      <td>5.0</td>\n",
       "      <td>5.0</td>\n",
       "      <td>5.0</td>\n",
       "      <td>3.0</td>\n",
       "      <td>NaN</td>\n",
       "      <td>NaN</td>\n",
       "      <td>0.0</td>\n",
       "      <td>NaN</td>\n",
       "      <td>NaN</td>\n",
       "      <td>NaN</td>\n",
       "      <td>NaN</td>\n",
       "    </tr>\n",
       "  </tbody>\n",
       "</table>\n",
       "</div>"
      ],
      "text/plain": [
       "   Unnamed: 0      lat      long      resort_name      continent country  \\\n",
       "0         199  39.6425  105.8719   arapahoe-basin  North America     USA   \n",
       "1         252  39.1823  106.8555  aspen-highlands  North America     USA   \n",
       "2         253      NaN       NaN   aspen-mountain  North America     USA   \n",
       "3         369  39.6042  106.5165     beaver-creek  North America     USA   \n",
       "4         577  39.4817  106.0384     breckenridge  North America     USA   \n",
       "\n",
       "      state                                                url  altitude  \\\n",
       "0  Colorado  http://www.skiresort.info/ski-resort/arapahoe-...      3790   \n",
       "1  Colorado  http://www.skiresort.info/ski-resort/aspen-hig...      3559   \n",
       "2  Colorado  http://www.skiresort.info/ski-resort/aspen-mou...      3418   \n",
       "3  Colorado  http://www.skiresort.info/ski-resort/beaver-cr...      3488   \n",
       "4  Colorado  http://www.skiresort.info/ski-resort/breckenri...      3914   \n",
       "\n",
       "   easy  medium  hard  Funicular  Circulating ropeway/gondola lift  chairlift  \\\n",
       "0  40.0    25.0  40.0        NaN                               NaN        0.0   \n",
       "1  24.3    40.5  70.2        NaN                               NaN        0.0   \n",
       "2   0.0    49.0  54.0        NaN                               0.0        0.0   \n",
       "3  28.5    64.5  57.0        NaN                               0.0        0.0   \n",
       "4  28.0    60.0  65.0        NaN                               0.0        0.0   \n",
       "\n",
       "   T-bar lift/platter/button lift   Sunkid Moving Carpet  Adult  Youth  Child  \\\n",
       "0                              NaN                   NaN    100     85     52   \n",
       "1                              NaN                   NaN    169      0    112   \n",
       "2                              NaN                   NaN    169      0    112   \n",
       "3                              NaN                   NaN    189      0    130   \n",
       "4                              0.0                   0.0    164      0    107   \n",
       "\n",
       "    Currency  ski_resort_size  num_runs  Lifts and cable cars   \\\n",
       "0  US Dollar              3.0       5.0                    3.0   \n",
       "1  US Dollar              4.0       5.0                    4.0   \n",
       "2  US Dollar              3.0       4.0                    4.0   \n",
       "3  US Dollar              4.0       5.0                    4.0   \n",
       "4  US Dollar              4.0       5.0                    4.0   \n",
       "\n",
       "   Snow reliability   Slope preparation   Access, on-site parking   \\\n",
       "0                5.0                 4.0                       4.0   \n",
       "1                5.0                 4.0                       2.0   \n",
       "2                4.0                 5.0                       2.0   \n",
       "3                5.0                 5.0                       4.0   \n",
       "4                5.0                 4.0                       3.0   \n",
       "\n",
       "   Orientation (trail map, information boards, sign-postings)   \\\n",
       "0                                                4.0             \n",
       "1                                                4.0             \n",
       "2                                                4.0             \n",
       "3                                                5.0             \n",
       "4                                                5.0             \n",
       "\n",
       "   Cleanliness and hygiene   Environmentally friendly ski operation   \\\n",
       "0                       4.0                                      4.0   \n",
       "1                       4.0                                      4.0   \n",
       "2                       4.0                                      4.0   \n",
       "3                       4.0                                      3.0   \n",
       "4                       4.0                                      3.0   \n",
       "\n",
       "   Friendliness of staff   Mountain restaurants, ski huts, gastronomy   \\\n",
       "0                     4.0                                          3.0   \n",
       "1                     5.0                                          4.0   \n",
       "2                     5.0                                          3.0   \n",
       "3                     5.0                                          4.0   \n",
       "4                     5.0                                          4.0   \n",
       "\n",
       "   Aprs-ski   Accommodation offering directly at the slopes and lifts   \\\n",
       "0         2.0                                                1.0          \n",
       "1         3.0                                                4.0          \n",
       "2         4.0                                                4.0          \n",
       "3         4.0                                                5.0          \n",
       "4         4.0                                                5.0          \n",
       "\n",
       "   Families and children   Beginners   Advanced skiers, freeriders   \\\n",
       "0                     3.0         3.0                           5.0   \n",
       "1                     2.0         3.0                           5.0   \n",
       "2                     1.0         1.0                           5.0   \n",
       "3                     5.0         5.0                           5.0   \n",
       "4                     5.0         5.0                           5.0   \n",
       "\n",
       "   Snow parks   Cross-country skiing and trails   \\\n",
       "0          5.0                               1.0   \n",
       "1          2.0                               3.0   \n",
       "2          1.0                               3.0   \n",
       "3          5.0                               3.0   \n",
       "4          5.0                               3.0   \n",
       "\n",
       "   Aerial tramway/reversible ropeway  Rope tow/beginner lift  People mover  \\\n",
       "0                                NaN                     NaN           0.0   \n",
       "1                                NaN                     NaN           NaN   \n",
       "2                                NaN                     NaN           NaN   \n",
       "3                                NaN                     NaN           0.0   \n",
       "4                                NaN                     NaN           0.0   \n",
       "\n",
       "   Combined installation (gondola and chair)  Cog railway  \\\n",
       "0                                        NaN          NaN   \n",
       "1                                        NaN          NaN   \n",
       "2                                        NaN          NaN   \n",
       "3                                        0.0          NaN   \n",
       "4                                        NaN          NaN   \n",
       "\n",
       "   Helicopter for Heli-skiing  Snow caterpillars for Cat-skiing  \n",
       "0                         NaN                               NaN  \n",
       "1                         NaN                               0.0  \n",
       "2                         NaN                               NaN  \n",
       "3                         NaN                               NaN  \n",
       "4                         NaN                               NaN  "
      ]
     },
     "metadata": {},
     "output_type": "display_data"
    }
   ],
   "source": [
    "df = pd.read_csv('skiCo.csv', encoding = \"ISO-8859-1\")\n",
    "\n",
    "display(df.head())"
   ]
  },
  {
   "cell_type": "code",
   "execution_count": 113,
   "metadata": {},
   "outputs": [
    {
     "name": "stdout",
     "output_type": "stream",
     "text": [
      "     lat    long zip_code\n",
      "0  39.97 -105.02    80023\n",
      "1  39.90 -104.80    80022\n",
      "2  39.80 -104.10    80103\n",
      "3  40.20 -103.80    80701\n",
      "4  39.74 -104.86    80010\n",
      "(526, 3)\n"
     ]
    },
    {
     "ename": "NameError",
     "evalue": "name 'arr' is not defined",
     "output_type": "error",
     "traceback": [
      "\u001b[1;31m---------------------------------------------------------------------------\u001b[0m",
      "\u001b[1;31mNameError\u001b[0m                                 Traceback (most recent call last)",
      "\u001b[1;32m<ipython-input-113-de9862546c2c>\u001b[0m in \u001b[0;36m<module>\u001b[1;34m\u001b[0m\n\u001b[0;32m     18\u001b[0m \u001b[0mdf_zip\u001b[0m\u001b[1;33m[\u001b[0m\u001b[1;34m'binned'\u001b[0m\u001b[1;33m]\u001b[0m \u001b[1;33m=\u001b[0m \u001b[0mpd\u001b[0m\u001b[1;33m.\u001b[0m\u001b[0mcut\u001b[0m\u001b[1;33m(\u001b[0m\u001b[0mdf_zip\u001b[0m\u001b[1;33m[\u001b[0m\u001b[1;34m'snowfall'\u001b[0m\u001b[1;33m]\u001b[0m\u001b[1;33m,\u001b[0m \u001b[0msnowfall_bins\u001b[0m\u001b[1;33m)\u001b[0m\u001b[1;33m\u001b[0m\u001b[1;33m\u001b[0m\u001b[0m\n\u001b[0;32m     19\u001b[0m \u001b[1;33m\u001b[0m\u001b[0m\n\u001b[1;32m---> 20\u001b[1;33m \u001b[0mid_set\u001b[0m \u001b[1;33m=\u001b[0m \u001b[0mset\u001b[0m\u001b[1;33m(\u001b[0m\u001b[0marr\u001b[0m\u001b[1;33m)\u001b[0m\u001b[1;33m\u001b[0m\u001b[1;33m\u001b[0m\u001b[0m\n\u001b[0m\u001b[0;32m     21\u001b[0m \u001b[1;31m# new_data = list(filter(lambda x: x['id'] in id_set, data))\u001b[0m\u001b[1;33m\u001b[0m\u001b[1;33m\u001b[0m\u001b[1;33m\u001b[0m\u001b[0m\n\u001b[0;32m     22\u001b[0m \u001b[1;33m\u001b[0m\u001b[0m\n",
      "\u001b[1;31mNameError\u001b[0m: name 'arr' is not defined"
     ]
    }
   ],
   "source": [
    "#converting dictionary to dataframe\n",
    "df_zip = pd.DataFrame.from_dict(zipcode_cords, orient='index', columns = ['lat','long'])\n",
    "df_zip['zip_code'] = df_zip.index\n",
    "df_zip.reset_index(inplace = True, drop = True) \n",
    "\n",
    "\n",
    "print(df_zip.head())\n",
    "print(df_zip.shape)\n",
    "\n",
    "for i in zipcode_cords:\n",
    "    snowfall_totals[i] = random.uniform(0, 24)\n",
    "    \n",
    "for ix in np.arange(len(df_zip['zip_code'])):\n",
    "    df_zip.loc[ix,'snowfall'] = random.uniform(0, 24)\n",
    "\n",
    "\n",
    "snowfall_bins = np.arange(0,26,3)\n",
    "df_zip['binned'] = pd.cut(df_zip['snowfall'], snowfall_bins)\n",
    "\n",
    "id_set = set(arr)\n",
    "# new_data = list(filter(lambda x: x['id'] in id_set, data))\n",
    "\n",
    "    "
   ]
  },
  {
   "cell_type": "code",
   "execution_count": 105,
   "metadata": {},
   "outputs": [],
   "source": [
    "\n",
    "import visvalingamwyatt as vw\n",
    "\n",
    "simplifier = vw.Simplifier(x[0])\n",
    "\n",
    "# Simplify by percentage of points to keep\n",
    "x = simplifier.simplify(ratio=0.5)\n",
    "\n",
    "print(x)\n"
   ]
  },
  {
   "cell_type": "code",
   "execution_count": 229,
   "metadata": {},
   "outputs": [
    {
     "name": "stdout",
     "output_type": "stream",
     "text": [
      "{'type': 'FeatureCollection', 'features': [{'type': 'Feature', 'properties': {'STATEFP10': '08', 'ZCTA5CE10': '80023', 'GEOID10': '0880023', 'CLASSFP10': 'B5', 'MTFCC10': 'G6350', 'FUNCSTAT10': 'S', 'ALAND10': 45657286, 'AWATER10': 566048, 'INTPTLAT10': '+39.9758578', 'INTPTLON10': '-105.0093868', 'PARTFLG10': 'N'}, 'geometry': {'type': 'Polygon', 'coordinates': [array([[-105.008903,   40.00029 ],\n",
      "       [-105.008903,   40.00029 ]])]}}, {'type': 'Feature', 'properties': {'STATEFP10': '08', 'ZCTA5CE10': '80022', 'GEOID10': '0880022', 'CLASSFP10': 'B5', 'MTFCC10': 'G6350', 'FUNCSTAT10': 'S', 'ALAND10': 119260445, 'AWATER10': 708605, 'INTPTLAT10': '+39.8796443', 'INTPTLON10': '-104.7985610', 'PARTFLG10': 'N'}, 'geometry': {'type': 'Polygon', 'coordinates': [array([[-104.927034,   39.791054],\n",
      "       [-104.697392,   39.969106],\n",
      "       [-104.732138,   39.845086],\n",
      "       [-104.927034,   39.791054]])]}}]}\n"
     ]
    }
   ],
   "source": [
    "\n",
    "\n",
    "\n",
    "\n",
    "def simplify_JSON_data(feature):\n",
    "    '''\n",
    "    Function to seperate out of a specific JSON feature the coordinates and the rest of the data\n",
    "    '''\n",
    "    #keeps 5% of the points\n",
    "    simplification_ratio = .05 \n",
    "    \n",
    "    #fetching coordinates of object\n",
    "    raw_cords = feature['geometry']['coordinates']\n",
    "    \n",
    "    #simplifying number of points\n",
    "    simplifier = vw.Simplifier(raw_cords[0])\n",
    "    tranformed_cords = simplifier.simplify(ratio=0.05)\n",
    "    \n",
    "    feature['geometry']['coordinates'] = [tranformed_cords]\n",
    "#     feature['geometry']['coordinates'] = [raw_cords\n",
    "    \n",
    "    return feature\n",
    "\n",
    "#seperate out one bin\n",
    "def filter_JSON_by_zip(data, zipcode_list):\n",
    "    '''\n",
    "    Takes geoJSON data files and pulls out any counties that are found in the list\n",
    "    \n",
    "    data         -> geojson data \n",
    "    zipcode_list -> list of desired zipcodes to pull out\n",
    "    '''\n",
    "    \n",
    "    filtered_data = {\"type\":\"FeatureCollection\"}\n",
    "    \n",
    "    zipcode_matches = []\n",
    "    \n",
    "    for zipcode in zipcode_list:\n",
    "        #iterating through zipcode in JSON file\n",
    "        for feature in data['features']:\n",
    "            if str(feature['properties']['ZCTA5CE10']) == zipcode:\n",
    "                feature = simplify_JSON_data(feature) #this is persistent\n",
    "                # add feature to match list\n",
    "                zipcode_matches.append(feature)\n",
    "    filtered_data['features'] = zipcode_matches\n",
    "    \n",
    "    return filtered_data\n",
    "\n",
    "def prepare_JSON_for_graphing(data_list, color_list):\n",
    "    layer_list = []\n",
    "    \n",
    "    for ix, data in enumerate(JSON_data_list):\n",
    "        layer = dict(\n",
    "            sourcetype = 'geojson',\n",
    "            source = data,\n",
    "            type = 'fill',\n",
    "            color = color_list[ix]\n",
    "        )\n",
    "    layer_list.append(layer)\n",
    "    \n",
    "    return layer_list\n",
    "\n",
    "    \n",
    "test_zip = ['80023','80022']\n",
    "test_json =  filter_JSON_by_zip(json_data, test_zip)\n",
    "print(test_json)\n",
    "    \n",
    "    \n"
   ]
  },
  {
   "cell_type": "code",
   "execution_count": 212,
   "metadata": {
    "scrolled": true
   },
   "outputs": [
    {
     "data": {
      "application/vnd.plotly.v1+json": {
       "config": {
        "plotlyServerURL": "https://plot.ly"
       },
       "data": [
        {
         "hoverlabel": {
          "namelength": 0
         },
         "hovertemplate": "lat=%{lat}<br>long=%{lon}",
         "lat": [
          39.6425,
          39.1823,
          null,
          39.6042,
          39.4817,
          null,
          null,
          39.5021,
          38.8697,
          null,
          39.9372,
          null,
          null,
          null,
          null,
          39.5792,
          null,
          40.3978,
          38.5122,
          null,
          null,
          null,
          null,
          39.209,
          null,
          null,
          null,
          null,
          null,
          null,
          null
         ],
         "legendgroup": "",
         "lon": [
          -105.8719,
          -106.8555,
          null,
          -106.5165,
          -106.0384,
          null,
          null,
          -106.15100000000001,
          -106.9878,
          null,
          -105.5827,
          null,
          null,
          null,
          null,
          -105.9347,
          null,
          -105.075,
          -106.3322,
          null,
          null,
          null,
          null,
          -106.9499,
          null,
          null,
          null,
          null,
          null,
          null,
          null
         ],
         "marker": {
          "color": "#636efa"
         },
         "mode": "markers",
         "name": "",
         "showlegend": false,
         "subplot": "mapbox",
         "type": "scattermapbox"
        }
       ],
       "layout": {
        "autosize": true,
        "height": 600,
        "hovermode": "closest",
        "legend": {
         "tracegroupgap": 0
        },
        "mapbox": {
         "accesstoken": "pk.eyJ1Ijoic2VyamVzdGVyIiwiYSI6ImNqeWV0ZWZsNTE0ejEzbHM4dnk5eWU2Z2cifQ.530rMydViqZBXBwPp6oLeQ",
         "bearing": 0,
         "center": {
          "lat": 39.5,
          "lon": -106.2
         },
         "domain": {
          "x": [
           0,
           0.98
          ],
          "y": [
           0,
           1
          ]
         },
         "layers": [
          {
           "color": "rgba(173,22,19,0.5)",
           "source": {
            "features": [
             {
              "geometry": {
               "coordinates": [
                [
                 [
                  -105.008903,
                  40.00029
                 ],
                 [
                  -104.97571,
                  40.000322
                 ],
                 [
                  -104.964701,
                  39.988099
                 ],
                 [
                  -104.9594,
                  39.986554
                 ],
                 [
                  -104.959418,
                  39.974504
                 ],
                 [
                  -104.960301,
                  39.973086
                 ],
                 [
                  -104.965656,
                  39.97263
                 ],
                 [
                  -104.96466,
                  39.97125
                 ],
                 [
                  -104.967608,
                  39.968871
                 ],
                 [
                  -104.965601,
                  39.966828
                 ],
                 [
                  -104.967356,
                  39.965153
                 ],
                 [
                  -104.966206,
                  39.962682
                 ],
                 [
                  -104.971075,
                  39.957498
                 ],
                 [
                  -104.978079,
                  39.957518
                 ],
                 [
                  -104.978188,
                  39.942944
                 ],
                 [
                  -104.996901,
                  39.943117
                 ],
                 [
                  -105.034385,
                  39.943252
                 ],
                 [
                  -105.052898,
                  39.943187
                 ],
                 [
                  -105.052833,
                  39.964319
                 ],
                 [
                  -105.054334,
                  39.964117
                 ],
                 [
                  -105.0585,
                  39.967232
                 ],
                 [
                  -105.058567,
                  39.975502
                 ],
                 [
                  -105.052797,
                  39.977574
                 ],
                 [
                  -105.052823,
                  40.00026
                 ],
                 [
                  -105.008903,
                  40.00029
                 ]
                ]
               ],
               "type": "Polygon"
              },
              "properties": {
               "ALAND10": 45657286,
               "AWATER10": 566048,
               "CLASSFP10": "B5",
               "FUNCSTAT10": "S",
               "GEOID10": "0880023",
               "INTPTLAT10": "+39.9758578",
               "INTPTLON10": "-105.0093868",
               "MTFCC10": "G6350",
               "PARTFLG10": "N",
               "STATEFP10": "08",
               "ZCTA5CE10": "80023"
              },
              "type": "Feature"
             },
             {
              "geometry": {
               "coordinates": [
                [
                 [
                  -104.927034,
                  39.791054
                 ],
                 [
                  -104.939882,
                  39.790994
                 ],
                 [
                  -104.940534,
                  39.794786
                 ],
                 [
                  -104.955624,
                  39.794686
                 ],
                 [
                  -104.960638,
                  39.790979
                 ],
                 [
                  -104.968861,
                  39.790974
                 ],
                 [
                  -104.95758,
                  39.803124
                 ],
                 [
                  -104.958768,
                  39.812039
                 ],
                 [
                  -104.952113,
                  39.813383
                 ],
                 [
                  -104.949908,
                  39.817329
                 ],
                 [
                  -104.948161,
                  39.830746
                 ],
                 [
                  -104.939214,
                  39.830858
                 ],
                 [
                  -104.934835,
                  39.833183
                 ],
                 [
                  -104.92932,
                  39.840939
                 ],
                 [
                  -104.921959,
                  39.842428
                 ],
                 [
                  -104.920367,
                  39.849166
                 ],
                 [
                  -104.914939,
                  39.853871
                 ],
                 [
                  -104.909522,
                  39.851497
                 ],
                 [
                  -104.904653,
                  39.856219
                 ],
                 [
                  -104.882427,
                  39.85623
                 ],
                 [
                  -104.831953,
                  39.89969
                 ],
                 [
                  -104.80923,
                  39.900012
                 ],
                 [
                  -104.808911,
                  39.914316
                 ],
                 [
                  -104.783362,
                  39.914328
                 ],
                 [
                  -104.782788,
                  39.925447
                 ],
                 [
                  -104.776532,
                  39.925132
                 ],
                 [
                  -104.775595,
                  39.929131
                 ],
                 [
                  -104.767403,
                  39.932077
                 ],
                 [
                  -104.75653,
                  39.931979
                 ],
                 [
                  -104.751725,
                  39.934997
                 ],
                 [
                  -104.75252,
                  39.940029
                 ],
                 [
                  -104.74433,
                  39.942547
                 ],
                 [
                  -104.748016,
                  39.947373
                 ],
                 [
                  -104.733395,
                  39.953062
                 ],
                 [
                  -104.723129,
                  39.951695
                 ],
                 [
                  -104.722433,
                  39.957926
                 ],
                 [
                  -104.71805,
                  39.960582
                 ],
                 [
                  -104.700535,
                  39.963793
                 ],
                 [
                  -104.697392,
                  39.969106
                 ],
                 [
                  -104.696948,
                  39.928754
                 ],
                 [
                  -104.678143,
                  39.928646
                 ],
                 [
                  -104.67808,
                  39.906584
                 ],
                 [
                  -104.680261,
                  39.914247
                 ],
                 [
                  -104.692934,
                  39.914183
                 ],
                 [
                  -104.692606,
                  39.906614
                 ],
                 [
                  -104.705375,
                  39.906418
                 ],
                 [
                  -104.705568,
                  39.89849
                 ],
                 [
                  -104.73155,
                  39.898611
                 ],
                 [
                  -104.732138,
                  39.845086
                 ],
                 [
                  -104.762139,
                  39.845444
                 ],
                 [
                  -104.762184,
                  39.841873
                 ],
                 [
                  -104.790859,
                  39.842009
                 ],
                 [
                  -104.790851,
                  39.865086
                 ],
                 [
                  -104.793614,
                  39.870907
                 ],
                 [
                  -104.865142,
                  39.870724
                 ],
                 [
                  -104.899004,
                  39.841514
                 ],
                 [
                  -104.897954,
                  39.832111
                 ],
                 [
                  -104.903284,
                  39.827228
                 ],
                 [
                  -104.903633,
                  39.784086
                 ],
                 [
                  -104.927002,
                  39.783778
                 ],
                 [
                  -104.927034,
                  39.791054
                 ]
                ]
               ],
               "type": "Polygon"
              },
              "properties": {
               "ALAND10": 119260445,
               "AWATER10": 708605,
               "CLASSFP10": "B5",
               "FUNCSTAT10": "S",
               "GEOID10": "0880022",
               "INTPTLAT10": "+39.8796443",
               "INTPTLON10": "-104.7985610",
               "MTFCC10": "G6350",
               "PARTFLG10": "N",
               "STATEFP10": "08",
               "ZCTA5CE10": "80022"
              },
              "type": "Feature"
             }
            ],
            "type": "FeatureCollection"
           },
           "sourcetype": "geojson",
           "type": "fill"
          }
         ],
         "pitch": 0,
         "style": "light",
         "zoom": 4.2
        },
        "margin": {
         "t": 60
        },
        "template": {
         "data": {
          "bar": [
           {
            "error_x": {
             "color": "#2a3f5f"
            },
            "error_y": {
             "color": "#2a3f5f"
            },
            "marker": {
             "line": {
              "color": "#E5ECF6",
              "width": 0.5
             }
            },
            "type": "bar"
           }
          ],
          "barpolar": [
           {
            "marker": {
             "line": {
              "color": "#E5ECF6",
              "width": 0.5
             }
            },
            "type": "barpolar"
           }
          ],
          "carpet": [
           {
            "aaxis": {
             "endlinecolor": "#2a3f5f",
             "gridcolor": "white",
             "linecolor": "white",
             "minorgridcolor": "white",
             "startlinecolor": "#2a3f5f"
            },
            "baxis": {
             "endlinecolor": "#2a3f5f",
             "gridcolor": "white",
             "linecolor": "white",
             "minorgridcolor": "white",
             "startlinecolor": "#2a3f5f"
            },
            "type": "carpet"
           }
          ],
          "choropleth": [
           {
            "colorbar": {
             "outlinewidth": 0,
             "ticks": ""
            },
            "type": "choropleth"
           }
          ],
          "contour": [
           {
            "colorbar": {
             "outlinewidth": 0,
             "ticks": ""
            },
            "colorscale": [
             [
              0,
              "#0d0887"
             ],
             [
              0.1111111111111111,
              "#46039f"
             ],
             [
              0.2222222222222222,
              "#7201a8"
             ],
             [
              0.3333333333333333,
              "#9c179e"
             ],
             [
              0.4444444444444444,
              "#bd3786"
             ],
             [
              0.5555555555555556,
              "#d8576b"
             ],
             [
              0.6666666666666666,
              "#ed7953"
             ],
             [
              0.7777777777777778,
              "#fb9f3a"
             ],
             [
              0.8888888888888888,
              "#fdca26"
             ],
             [
              1,
              "#f0f921"
             ]
            ],
            "type": "contour"
           }
          ],
          "contourcarpet": [
           {
            "colorbar": {
             "outlinewidth": 0,
             "ticks": ""
            },
            "type": "contourcarpet"
           }
          ],
          "heatmap": [
           {
            "colorbar": {
             "outlinewidth": 0,
             "ticks": ""
            },
            "colorscale": [
             [
              0,
              "#0d0887"
             ],
             [
              0.1111111111111111,
              "#46039f"
             ],
             [
              0.2222222222222222,
              "#7201a8"
             ],
             [
              0.3333333333333333,
              "#9c179e"
             ],
             [
              0.4444444444444444,
              "#bd3786"
             ],
             [
              0.5555555555555556,
              "#d8576b"
             ],
             [
              0.6666666666666666,
              "#ed7953"
             ],
             [
              0.7777777777777778,
              "#fb9f3a"
             ],
             [
              0.8888888888888888,
              "#fdca26"
             ],
             [
              1,
              "#f0f921"
             ]
            ],
            "type": "heatmap"
           }
          ],
          "heatmapgl": [
           {
            "colorbar": {
             "outlinewidth": 0,
             "ticks": ""
            },
            "colorscale": [
             [
              0,
              "#0d0887"
             ],
             [
              0.1111111111111111,
              "#46039f"
             ],
             [
              0.2222222222222222,
              "#7201a8"
             ],
             [
              0.3333333333333333,
              "#9c179e"
             ],
             [
              0.4444444444444444,
              "#bd3786"
             ],
             [
              0.5555555555555556,
              "#d8576b"
             ],
             [
              0.6666666666666666,
              "#ed7953"
             ],
             [
              0.7777777777777778,
              "#fb9f3a"
             ],
             [
              0.8888888888888888,
              "#fdca26"
             ],
             [
              1,
              "#f0f921"
             ]
            ],
            "type": "heatmapgl"
           }
          ],
          "histogram": [
           {
            "marker": {
             "colorbar": {
              "outlinewidth": 0,
              "ticks": ""
             }
            },
            "type": "histogram"
           }
          ],
          "histogram2d": [
           {
            "colorbar": {
             "outlinewidth": 0,
             "ticks": ""
            },
            "colorscale": [
             [
              0,
              "#0d0887"
             ],
             [
              0.1111111111111111,
              "#46039f"
             ],
             [
              0.2222222222222222,
              "#7201a8"
             ],
             [
              0.3333333333333333,
              "#9c179e"
             ],
             [
              0.4444444444444444,
              "#bd3786"
             ],
             [
              0.5555555555555556,
              "#d8576b"
             ],
             [
              0.6666666666666666,
              "#ed7953"
             ],
             [
              0.7777777777777778,
              "#fb9f3a"
             ],
             [
              0.8888888888888888,
              "#fdca26"
             ],
             [
              1,
              "#f0f921"
             ]
            ],
            "type": "histogram2d"
           }
          ],
          "histogram2dcontour": [
           {
            "colorbar": {
             "outlinewidth": 0,
             "ticks": ""
            },
            "colorscale": [
             [
              0,
              "#0d0887"
             ],
             [
              0.1111111111111111,
              "#46039f"
             ],
             [
              0.2222222222222222,
              "#7201a8"
             ],
             [
              0.3333333333333333,
              "#9c179e"
             ],
             [
              0.4444444444444444,
              "#bd3786"
             ],
             [
              0.5555555555555556,
              "#d8576b"
             ],
             [
              0.6666666666666666,
              "#ed7953"
             ],
             [
              0.7777777777777778,
              "#fb9f3a"
             ],
             [
              0.8888888888888888,
              "#fdca26"
             ],
             [
              1,
              "#f0f921"
             ]
            ],
            "type": "histogram2dcontour"
           }
          ],
          "mesh3d": [
           {
            "colorbar": {
             "outlinewidth": 0,
             "ticks": ""
            },
            "type": "mesh3d"
           }
          ],
          "parcoords": [
           {
            "line": {
             "colorbar": {
              "outlinewidth": 0,
              "ticks": ""
             }
            },
            "type": "parcoords"
           }
          ],
          "scatter": [
           {
            "marker": {
             "colorbar": {
              "outlinewidth": 0,
              "ticks": ""
             }
            },
            "type": "scatter"
           }
          ],
          "scatter3d": [
           {
            "line": {
             "colorbar": {
              "outlinewidth": 0,
              "ticks": ""
             }
            },
            "marker": {
             "colorbar": {
              "outlinewidth": 0,
              "ticks": ""
             }
            },
            "type": "scatter3d"
           }
          ],
          "scattercarpet": [
           {
            "marker": {
             "colorbar": {
              "outlinewidth": 0,
              "ticks": ""
             }
            },
            "type": "scattercarpet"
           }
          ],
          "scattergeo": [
           {
            "marker": {
             "colorbar": {
              "outlinewidth": 0,
              "ticks": ""
             }
            },
            "type": "scattergeo"
           }
          ],
          "scattergl": [
           {
            "marker": {
             "colorbar": {
              "outlinewidth": 0,
              "ticks": ""
             }
            },
            "type": "scattergl"
           }
          ],
          "scattermapbox": [
           {
            "marker": {
             "colorbar": {
              "outlinewidth": 0,
              "ticks": ""
             }
            },
            "type": "scattermapbox"
           }
          ],
          "scatterpolar": [
           {
            "marker": {
             "colorbar": {
              "outlinewidth": 0,
              "ticks": ""
             }
            },
            "type": "scatterpolar"
           }
          ],
          "scatterpolargl": [
           {
            "marker": {
             "colorbar": {
              "outlinewidth": 0,
              "ticks": ""
             }
            },
            "type": "scatterpolargl"
           }
          ],
          "scatterternary": [
           {
            "marker": {
             "colorbar": {
              "outlinewidth": 0,
              "ticks": ""
             }
            },
            "type": "scatterternary"
           }
          ],
          "surface": [
           {
            "colorbar": {
             "outlinewidth": 0,
             "ticks": ""
            },
            "colorscale": [
             [
              0,
              "#0d0887"
             ],
             [
              0.1111111111111111,
              "#46039f"
             ],
             [
              0.2222222222222222,
              "#7201a8"
             ],
             [
              0.3333333333333333,
              "#9c179e"
             ],
             [
              0.4444444444444444,
              "#bd3786"
             ],
             [
              0.5555555555555556,
              "#d8576b"
             ],
             [
              0.6666666666666666,
              "#ed7953"
             ],
             [
              0.7777777777777778,
              "#fb9f3a"
             ],
             [
              0.8888888888888888,
              "#fdca26"
             ],
             [
              1,
              "#f0f921"
             ]
            ],
            "type": "surface"
           }
          ],
          "table": [
           {
            "cells": {
             "fill": {
              "color": "#EBF0F8"
             },
             "line": {
              "color": "white"
             }
            },
            "header": {
             "fill": {
              "color": "#C8D4E3"
             },
             "line": {
              "color": "white"
             }
            },
            "type": "table"
           }
          ]
         },
         "layout": {
          "annotationdefaults": {
           "arrowcolor": "#2a3f5f",
           "arrowhead": 0,
           "arrowwidth": 1
          },
          "colorscale": {
           "diverging": [
            [
             0,
             "#8e0152"
            ],
            [
             0.1,
             "#c51b7d"
            ],
            [
             0.2,
             "#de77ae"
            ],
            [
             0.3,
             "#f1b6da"
            ],
            [
             0.4,
             "#fde0ef"
            ],
            [
             0.5,
             "#f7f7f7"
            ],
            [
             0.6,
             "#e6f5d0"
            ],
            [
             0.7,
             "#b8e186"
            ],
            [
             0.8,
             "#7fbc41"
            ],
            [
             0.9,
             "#4d9221"
            ],
            [
             1,
             "#276419"
            ]
           ],
           "sequential": [
            [
             0,
             "#0d0887"
            ],
            [
             0.1111111111111111,
             "#46039f"
            ],
            [
             0.2222222222222222,
             "#7201a8"
            ],
            [
             0.3333333333333333,
             "#9c179e"
            ],
            [
             0.4444444444444444,
             "#bd3786"
            ],
            [
             0.5555555555555556,
             "#d8576b"
            ],
            [
             0.6666666666666666,
             "#ed7953"
            ],
            [
             0.7777777777777778,
             "#fb9f3a"
            ],
            [
             0.8888888888888888,
             "#fdca26"
            ],
            [
             1,
             "#f0f921"
            ]
           ],
           "sequentialminus": [
            [
             0,
             "#0d0887"
            ],
            [
             0.1111111111111111,
             "#46039f"
            ],
            [
             0.2222222222222222,
             "#7201a8"
            ],
            [
             0.3333333333333333,
             "#9c179e"
            ],
            [
             0.4444444444444444,
             "#bd3786"
            ],
            [
             0.5555555555555556,
             "#d8576b"
            ],
            [
             0.6666666666666666,
             "#ed7953"
            ],
            [
             0.7777777777777778,
             "#fb9f3a"
            ],
            [
             0.8888888888888888,
             "#fdca26"
            ],
            [
             1,
             "#f0f921"
            ]
           ]
          },
          "colorway": [
           "#636efa",
           "#EF553B",
           "#00cc96",
           "#ab63fa",
           "#FFA15A",
           "#19d3f3",
           "#FF6692",
           "#B6E880",
           "#FF97FF",
           "#FECB52"
          ],
          "font": {
           "color": "#2a3f5f"
          },
          "geo": {
           "bgcolor": "white",
           "lakecolor": "white",
           "landcolor": "#E5ECF6",
           "showlakes": true,
           "showland": true,
           "subunitcolor": "white"
          },
          "hoverlabel": {
           "align": "left"
          },
          "hovermode": "closest",
          "mapbox": {
           "style": "light"
          },
          "paper_bgcolor": "white",
          "plot_bgcolor": "#E5ECF6",
          "polar": {
           "angularaxis": {
            "gridcolor": "white",
            "linecolor": "white",
            "ticks": ""
           },
           "bgcolor": "#E5ECF6",
           "radialaxis": {
            "gridcolor": "white",
            "linecolor": "white",
            "ticks": ""
           }
          },
          "scene": {
           "xaxis": {
            "backgroundcolor": "#E5ECF6",
            "gridcolor": "white",
            "gridwidth": 2,
            "linecolor": "white",
            "showbackground": true,
            "ticks": "",
            "zerolinecolor": "white"
           },
           "yaxis": {
            "backgroundcolor": "#E5ECF6",
            "gridcolor": "white",
            "gridwidth": 2,
            "linecolor": "white",
            "showbackground": true,
            "ticks": "",
            "zerolinecolor": "white"
           },
           "zaxis": {
            "backgroundcolor": "#E5ECF6",
            "gridcolor": "white",
            "gridwidth": 2,
            "linecolor": "white",
            "showbackground": true,
            "ticks": "",
            "zerolinecolor": "white"
           }
          },
          "shapedefaults": {
           "line": {
            "color": "#2a3f5f"
           }
          },
          "ternary": {
           "aaxis": {
            "gridcolor": "white",
            "linecolor": "white",
            "ticks": ""
           },
           "baxis": {
            "gridcolor": "white",
            "linecolor": "white",
            "ticks": ""
           },
           "bgcolor": "#E5ECF6",
           "caxis": {
            "gridcolor": "white",
            "linecolor": "white",
            "ticks": ""
           }
          },
          "title": {
           "x": 0.05
          },
          "xaxis": {
           "automargin": true,
           "gridcolor": "white",
           "linecolor": "white",
           "ticks": "",
           "zerolinecolor": "white",
           "zerolinewidth": 2
          },
          "yaxis": {
           "automargin": true,
           "gridcolor": "white",
           "linecolor": "white",
           "ticks": "",
           "zerolinecolor": "white",
           "zerolinewidth": 2
          }
         }
        }
       }
      },
      "text/html": [
       "<div>\n",
       "        \n",
       "        \n",
       "            <div id=\"e1b320b7-afd0-4d02-b07b-2dfdff72275a\" class=\"plotly-graph-div\" style=\"height:600px; width:100%;\"></div>\n",
       "            <script type=\"text/javascript\">\n",
       "                require([\"plotly\"], function(Plotly) {\n",
       "                    window.PLOTLYENV=window.PLOTLYENV || {};\n",
       "                    \n",
       "                if (document.getElementById(\"e1b320b7-afd0-4d02-b07b-2dfdff72275a\")) {\n",
       "                    Plotly.newPlot(\n",
       "                        'e1b320b7-afd0-4d02-b07b-2dfdff72275a',\n",
       "                        [{\"hoverlabel\": {\"namelength\": 0}, \"hovertemplate\": \"lat=%{lat}<br>long=%{lon}\", \"lat\": [39.6425, 39.1823, null, 39.6042, 39.4817, null, null, 39.5021, 38.8697, null, 39.9372, null, null, null, null, 39.5792, null, 40.3978, 38.5122, null, null, null, null, 39.209, null, null, null, null, null, null, null], \"legendgroup\": \"\", \"lon\": [-105.8719, -106.8555, null, -106.5165, -106.0384, null, null, -106.15100000000001, -106.9878, null, -105.5827, null, null, null, null, -105.9347, null, -105.075, -106.3322, null, null, null, null, -106.9499, null, null, null, null, null, null, null], \"marker\": {\"color\": \"#636efa\"}, \"mode\": \"markers\", \"name\": \"\", \"showlegend\": false, \"subplot\": \"mapbox\", \"type\": \"scattermapbox\"}],\n",
       "                        {\"autosize\": true, \"height\": 600, \"hovermode\": \"closest\", \"legend\": {\"tracegroupgap\": 0}, \"mapbox\": {\"accesstoken\": \"pk.eyJ1Ijoic2VyamVzdGVyIiwiYSI6ImNqeWV0ZWZsNTE0ejEzbHM4dnk5eWU2Z2cifQ.530rMydViqZBXBwPp6oLeQ\", \"bearing\": 0, \"center\": {\"lat\": 39.5, \"lon\": -106.2}, \"domain\": {\"x\": [0.0, 0.98], \"y\": [0.0, 1.0]}, \"layers\": [{\"color\": \"rgba(173,22,19,0.5)\", \"source\": {\"features\": [{\"geometry\": {\"coordinates\": [[[-105.008903, 40.00029], [-104.97571, 40.000322], [-104.964701, 39.988099], [-104.9594, 39.986554], [-104.959418, 39.974504], [-104.960301, 39.973086], [-104.965656, 39.97263], [-104.96466, 39.97125], [-104.967608, 39.968871], [-104.965601, 39.966828], [-104.967356, 39.965153], [-104.966206, 39.962682], [-104.971075, 39.957498], [-104.978079, 39.957518], [-104.978188, 39.942944], [-104.996901, 39.943117], [-105.034385, 39.943252], [-105.052898, 39.943187], [-105.052833, 39.964319], [-105.054334, 39.964117], [-105.0585, 39.967232], [-105.058567, 39.975502], [-105.052797, 39.977574], [-105.052823, 40.00026], [-105.008903, 40.00029]]], \"type\": \"Polygon\"}, \"properties\": {\"ALAND10\": 45657286, \"AWATER10\": 566048, \"CLASSFP10\": \"B5\", \"FUNCSTAT10\": \"S\", \"GEOID10\": \"0880023\", \"INTPTLAT10\": \"+39.9758578\", \"INTPTLON10\": \"-105.0093868\", \"MTFCC10\": \"G6350\", \"PARTFLG10\": \"N\", \"STATEFP10\": \"08\", \"ZCTA5CE10\": \"80023\"}, \"type\": \"Feature\"}, {\"geometry\": {\"coordinates\": [[[-104.927034, 39.791054], [-104.939882, 39.790994], [-104.940534, 39.794786], [-104.955624, 39.794686], [-104.960638, 39.790979], [-104.968861, 39.790974], [-104.95758, 39.803124], [-104.958768, 39.812039], [-104.952113, 39.813383], [-104.949908, 39.817329], [-104.948161, 39.830746], [-104.939214, 39.830858], [-104.934835, 39.833183], [-104.92932, 39.840939], [-104.921959, 39.842428], [-104.920367, 39.849166], [-104.914939, 39.853871], [-104.909522, 39.851497], [-104.904653, 39.856219], [-104.882427, 39.85623], [-104.831953, 39.89969], [-104.80923, 39.900012], [-104.808911, 39.914316], [-104.783362, 39.914328], [-104.782788, 39.925447], [-104.776532, 39.925132], [-104.775595, 39.929131], [-104.767403, 39.932077], [-104.75653, 39.931979], [-104.751725, 39.934997], [-104.75252, 39.940029], [-104.74433, 39.942547], [-104.748016, 39.947373], [-104.733395, 39.953062], [-104.723129, 39.951695], [-104.722433, 39.957926], [-104.71805, 39.960582], [-104.700535, 39.963793], [-104.697392, 39.969106], [-104.696948, 39.928754], [-104.678143, 39.928646], [-104.67808, 39.906584], [-104.680261, 39.914247], [-104.692934, 39.914183], [-104.692606, 39.906614], [-104.705375, 39.906418], [-104.705568, 39.89849], [-104.73155, 39.898611], [-104.732138, 39.845086], [-104.762139, 39.845444], [-104.762184, 39.841873], [-104.790859, 39.842009], [-104.790851, 39.865086], [-104.793614, 39.870907], [-104.865142, 39.870724], [-104.899004, 39.841514], [-104.897954, 39.832111], [-104.903284, 39.827228], [-104.903633, 39.784086], [-104.927002, 39.783778], [-104.927034, 39.791054]]], \"type\": \"Polygon\"}, \"properties\": {\"ALAND10\": 119260445, \"AWATER10\": 708605, \"CLASSFP10\": \"B5\", \"FUNCSTAT10\": \"S\", \"GEOID10\": \"0880022\", \"INTPTLAT10\": \"+39.8796443\", \"INTPTLON10\": \"-104.7985610\", \"MTFCC10\": \"G6350\", \"PARTFLG10\": \"N\", \"STATEFP10\": \"08\", \"ZCTA5CE10\": \"80022\"}, \"type\": \"Feature\"}], \"type\": \"FeatureCollection\"}, \"sourcetype\": \"geojson\", \"type\": \"fill\"}], \"pitch\": 0, \"style\": \"light\", \"zoom\": 4.2}, \"margin\": {\"t\": 60}, \"template\": {\"data\": {\"bar\": [{\"error_x\": {\"color\": \"#2a3f5f\"}, \"error_y\": {\"color\": \"#2a3f5f\"}, \"marker\": {\"line\": {\"color\": \"#E5ECF6\", \"width\": 0.5}}, \"type\": \"bar\"}], \"barpolar\": [{\"marker\": {\"line\": {\"color\": \"#E5ECF6\", \"width\": 0.5}}, \"type\": \"barpolar\"}], \"carpet\": [{\"aaxis\": {\"endlinecolor\": \"#2a3f5f\", \"gridcolor\": \"white\", \"linecolor\": \"white\", \"minorgridcolor\": \"white\", \"startlinecolor\": \"#2a3f5f\"}, \"baxis\": {\"endlinecolor\": \"#2a3f5f\", \"gridcolor\": \"white\", \"linecolor\": \"white\", \"minorgridcolor\": \"white\", \"startlinecolor\": \"#2a3f5f\"}, \"type\": \"carpet\"}], \"choropleth\": [{\"colorbar\": {\"outlinewidth\": 0, \"ticks\": \"\"}, \"type\": \"choropleth\"}], \"contour\": [{\"colorbar\": {\"outlinewidth\": 0, \"ticks\": \"\"}, \"colorscale\": [[0.0, \"#0d0887\"], [0.1111111111111111, \"#46039f\"], [0.2222222222222222, \"#7201a8\"], [0.3333333333333333, \"#9c179e\"], [0.4444444444444444, \"#bd3786\"], [0.5555555555555556, \"#d8576b\"], [0.6666666666666666, \"#ed7953\"], [0.7777777777777778, \"#fb9f3a\"], [0.8888888888888888, \"#fdca26\"], [1.0, \"#f0f921\"]], \"type\": \"contour\"}], \"contourcarpet\": [{\"colorbar\": {\"outlinewidth\": 0, \"ticks\": \"\"}, \"type\": \"contourcarpet\"}], \"heatmap\": [{\"colorbar\": {\"outlinewidth\": 0, \"ticks\": \"\"}, \"colorscale\": [[0.0, \"#0d0887\"], [0.1111111111111111, \"#46039f\"], [0.2222222222222222, \"#7201a8\"], [0.3333333333333333, \"#9c179e\"], [0.4444444444444444, \"#bd3786\"], [0.5555555555555556, \"#d8576b\"], [0.6666666666666666, \"#ed7953\"], [0.7777777777777778, \"#fb9f3a\"], [0.8888888888888888, \"#fdca26\"], [1.0, \"#f0f921\"]], \"type\": \"heatmap\"}], \"heatmapgl\": [{\"colorbar\": {\"outlinewidth\": 0, \"ticks\": \"\"}, \"colorscale\": [[0.0, \"#0d0887\"], [0.1111111111111111, \"#46039f\"], [0.2222222222222222, \"#7201a8\"], [0.3333333333333333, \"#9c179e\"], [0.4444444444444444, \"#bd3786\"], [0.5555555555555556, \"#d8576b\"], [0.6666666666666666, \"#ed7953\"], [0.7777777777777778, \"#fb9f3a\"], [0.8888888888888888, \"#fdca26\"], [1.0, \"#f0f921\"]], \"type\": \"heatmapgl\"}], \"histogram\": [{\"marker\": {\"colorbar\": {\"outlinewidth\": 0, \"ticks\": \"\"}}, \"type\": \"histogram\"}], \"histogram2d\": [{\"colorbar\": {\"outlinewidth\": 0, \"ticks\": \"\"}, \"colorscale\": [[0.0, \"#0d0887\"], [0.1111111111111111, \"#46039f\"], [0.2222222222222222, \"#7201a8\"], [0.3333333333333333, \"#9c179e\"], [0.4444444444444444, \"#bd3786\"], [0.5555555555555556, \"#d8576b\"], [0.6666666666666666, \"#ed7953\"], [0.7777777777777778, \"#fb9f3a\"], [0.8888888888888888, \"#fdca26\"], [1.0, \"#f0f921\"]], \"type\": \"histogram2d\"}], \"histogram2dcontour\": [{\"colorbar\": {\"outlinewidth\": 0, \"ticks\": \"\"}, \"colorscale\": [[0.0, \"#0d0887\"], [0.1111111111111111, \"#46039f\"], [0.2222222222222222, \"#7201a8\"], [0.3333333333333333, \"#9c179e\"], [0.4444444444444444, \"#bd3786\"], [0.5555555555555556, \"#d8576b\"], [0.6666666666666666, \"#ed7953\"], [0.7777777777777778, \"#fb9f3a\"], [0.8888888888888888, \"#fdca26\"], [1.0, \"#f0f921\"]], \"type\": \"histogram2dcontour\"}], \"mesh3d\": [{\"colorbar\": {\"outlinewidth\": 0, \"ticks\": \"\"}, \"type\": \"mesh3d\"}], \"parcoords\": [{\"line\": {\"colorbar\": {\"outlinewidth\": 0, \"ticks\": \"\"}}, \"type\": \"parcoords\"}], \"scatter\": [{\"marker\": {\"colorbar\": {\"outlinewidth\": 0, \"ticks\": \"\"}}, \"type\": \"scatter\"}], \"scatter3d\": [{\"line\": {\"colorbar\": {\"outlinewidth\": 0, \"ticks\": \"\"}}, \"marker\": {\"colorbar\": {\"outlinewidth\": 0, \"ticks\": \"\"}}, \"type\": \"scatter3d\"}], \"scattercarpet\": [{\"marker\": {\"colorbar\": {\"outlinewidth\": 0, \"ticks\": \"\"}}, \"type\": \"scattercarpet\"}], \"scattergeo\": [{\"marker\": {\"colorbar\": {\"outlinewidth\": 0, \"ticks\": \"\"}}, \"type\": \"scattergeo\"}], \"scattergl\": [{\"marker\": {\"colorbar\": {\"outlinewidth\": 0, \"ticks\": \"\"}}, \"type\": \"scattergl\"}], \"scattermapbox\": [{\"marker\": {\"colorbar\": {\"outlinewidth\": 0, \"ticks\": \"\"}}, \"type\": \"scattermapbox\"}], \"scatterpolar\": [{\"marker\": {\"colorbar\": {\"outlinewidth\": 0, \"ticks\": \"\"}}, \"type\": \"scatterpolar\"}], \"scatterpolargl\": [{\"marker\": {\"colorbar\": {\"outlinewidth\": 0, \"ticks\": \"\"}}, \"type\": \"scatterpolargl\"}], \"scatterternary\": [{\"marker\": {\"colorbar\": {\"outlinewidth\": 0, \"ticks\": \"\"}}, \"type\": \"scatterternary\"}], \"surface\": [{\"colorbar\": {\"outlinewidth\": 0, \"ticks\": \"\"}, \"colorscale\": [[0.0, \"#0d0887\"], [0.1111111111111111, \"#46039f\"], [0.2222222222222222, \"#7201a8\"], [0.3333333333333333, \"#9c179e\"], [0.4444444444444444, \"#bd3786\"], [0.5555555555555556, \"#d8576b\"], [0.6666666666666666, \"#ed7953\"], [0.7777777777777778, \"#fb9f3a\"], [0.8888888888888888, \"#fdca26\"], [1.0, \"#f0f921\"]], \"type\": \"surface\"}], \"table\": [{\"cells\": {\"fill\": {\"color\": \"#EBF0F8\"}, \"line\": {\"color\": \"white\"}}, \"header\": {\"fill\": {\"color\": \"#C8D4E3\"}, \"line\": {\"color\": \"white\"}}, \"type\": \"table\"}]}, \"layout\": {\"annotationdefaults\": {\"arrowcolor\": \"#2a3f5f\", \"arrowhead\": 0, \"arrowwidth\": 1}, \"colorscale\": {\"diverging\": [[0, \"#8e0152\"], [0.1, \"#c51b7d\"], [0.2, \"#de77ae\"], [0.3, \"#f1b6da\"], [0.4, \"#fde0ef\"], [0.5, \"#f7f7f7\"], [0.6, \"#e6f5d0\"], [0.7, \"#b8e186\"], [0.8, \"#7fbc41\"], [0.9, \"#4d9221\"], [1, \"#276419\"]], \"sequential\": [[0.0, \"#0d0887\"], [0.1111111111111111, \"#46039f\"], [0.2222222222222222, \"#7201a8\"], [0.3333333333333333, \"#9c179e\"], [0.4444444444444444, \"#bd3786\"], [0.5555555555555556, \"#d8576b\"], [0.6666666666666666, \"#ed7953\"], [0.7777777777777778, \"#fb9f3a\"], [0.8888888888888888, \"#fdca26\"], [1.0, \"#f0f921\"]], \"sequentialminus\": [[0.0, \"#0d0887\"], [0.1111111111111111, \"#46039f\"], [0.2222222222222222, \"#7201a8\"], [0.3333333333333333, \"#9c179e\"], [0.4444444444444444, \"#bd3786\"], [0.5555555555555556, \"#d8576b\"], [0.6666666666666666, \"#ed7953\"], [0.7777777777777778, \"#fb9f3a\"], [0.8888888888888888, \"#fdca26\"], [1.0, \"#f0f921\"]]}, \"colorway\": [\"#636efa\", \"#EF553B\", \"#00cc96\", \"#ab63fa\", \"#FFA15A\", \"#19d3f3\", \"#FF6692\", \"#B6E880\", \"#FF97FF\", \"#FECB52\"], \"font\": {\"color\": \"#2a3f5f\"}, \"geo\": {\"bgcolor\": \"white\", \"lakecolor\": \"white\", \"landcolor\": \"#E5ECF6\", \"showlakes\": true, \"showland\": true, \"subunitcolor\": \"white\"}, \"hoverlabel\": {\"align\": \"left\"}, \"hovermode\": \"closest\", \"mapbox\": {\"style\": \"light\"}, \"paper_bgcolor\": \"white\", \"plot_bgcolor\": \"#E5ECF6\", \"polar\": {\"angularaxis\": {\"gridcolor\": \"white\", \"linecolor\": \"white\", \"ticks\": \"\"}, \"bgcolor\": \"#E5ECF6\", \"radialaxis\": {\"gridcolor\": \"white\", \"linecolor\": \"white\", \"ticks\": \"\"}}, \"scene\": {\"xaxis\": {\"backgroundcolor\": \"#E5ECF6\", \"gridcolor\": \"white\", \"gridwidth\": 2, \"linecolor\": \"white\", \"showbackground\": true, \"ticks\": \"\", \"zerolinecolor\": \"white\"}, \"yaxis\": {\"backgroundcolor\": \"#E5ECF6\", \"gridcolor\": \"white\", \"gridwidth\": 2, \"linecolor\": \"white\", \"showbackground\": true, \"ticks\": \"\", \"zerolinecolor\": \"white\"}, \"zaxis\": {\"backgroundcolor\": \"#E5ECF6\", \"gridcolor\": \"white\", \"gridwidth\": 2, \"linecolor\": \"white\", \"showbackground\": true, \"ticks\": \"\", \"zerolinecolor\": \"white\"}}, \"shapedefaults\": {\"line\": {\"color\": \"#2a3f5f\"}}, \"ternary\": {\"aaxis\": {\"gridcolor\": \"white\", \"linecolor\": \"white\", \"ticks\": \"\"}, \"baxis\": {\"gridcolor\": \"white\", \"linecolor\": \"white\", \"ticks\": \"\"}, \"bgcolor\": \"#E5ECF6\", \"caxis\": {\"gridcolor\": \"white\", \"linecolor\": \"white\", \"ticks\": \"\"}}, \"title\": {\"x\": 0.05}, \"xaxis\": {\"automargin\": true, \"gridcolor\": \"white\", \"linecolor\": \"white\", \"ticks\": \"\", \"zerolinecolor\": \"white\", \"zerolinewidth\": 2}, \"yaxis\": {\"automargin\": true, \"gridcolor\": \"white\", \"linecolor\": \"white\", \"ticks\": \"\", \"zerolinecolor\": \"white\", \"zerolinewidth\": 2}}}},\n",
       "                        {\"responsive\": true}\n",
       "                    ).then(function(){\n",
       "                            \n",
       "var gd = document.getElementById('e1b320b7-afd0-4d02-b07b-2dfdff72275a');\n",
       "var x = new MutationObserver(function (mutations, observer) {{\n",
       "        var display = window.getComputedStyle(gd).display;\n",
       "        if (!display || display === 'none') {{\n",
       "            console.log([gd, 'removed!']);\n",
       "            Plotly.purge(gd);\n",
       "            observer.disconnect();\n",
       "        }}\n",
       "}});\n",
       "\n",
       "// Listen for the removal of the full notebook cells\n",
       "var notebookContainer = gd.closest('#notebook-container');\n",
       "if (notebookContainer) {{\n",
       "    x.observe(notebookContainer, {childList: true});\n",
       "}}\n",
       "\n",
       "// Listen for the clearing of the current output cell\n",
       "var outputEl = gd.closest('.output');\n",
       "if (outputEl) {{\n",
       "    x.observe(outputEl, {childList: true});\n",
       "}}\n",
       "\n",
       "                        })\n",
       "                };\n",
       "                });\n",
       "            </script>\n",
       "        </div>"
      ]
     },
     "metadata": {},
     "output_type": "display_data"
    }
   ],
   "source": [
    "haz13_custom_style = \"mapbox://styles/shaz13/cjiog1iqa1vkd2soeu5eocy4i\"\n",
    "\n",
    "co_zip_json = 'https://raw.githubusercontent.com/Filimoa/Karta/master/co_zipcodes.json'\n",
    "\n",
    "px.set_mapbox_access_token(MAPBOX_TOKEN)\n",
    "\n",
    "\n",
    "fig = px.scatter_mapbox(df, lat=\"lat\", lon=\"long\")\n",
    "\n",
    "fig.update_layout(\n",
    "    height=600,\n",
    "    autosize=True,\n",
    "    hovermode='closest',\n",
    "    mapbox=dict(\n",
    "        layers=[\n",
    "            dict(\n",
    "                sourcetype = 'geojson',\n",
    "                source = test_json,\n",
    "                color = 'rgba(173,22,19,0.5)',\n",
    "                type = 'fill',\n",
    "#                 below = True\n",
    "            ),\n",
    "        ],\n",
    "        accesstoken=MAPBOX_TOKEN,\n",
    "        bearing=0,\n",
    "        center=dict(\n",
    "            lat=39.5,\n",
    "            lon=-106.2\n",
    "        ),\n",
    "        pitch=0,\n",
    "        zoom=4.2,\n",
    "        style='light'\n",
    "    ),\n",
    ")\n",
    "\n",
    "\n",
    "\n",
    "\n",
    "\n",
    "fig.show()"
   ]
  },
  {
   "cell_type": "code",
   "execution_count": 227,
   "metadata": {
    "scrolled": true
   },
   "outputs": [],
   "source": [
    "#loading json file\n",
    "with open('co_zipcodes.json') as json_file:\n",
    "    json_data = json.load(json_file)\n",
    "\n",
    "zipcode_cords = {}  \n",
    "search = SearchEngine(simple_zipcode=True)\n",
    "\n",
    "#getting every single zipcode and it's coordinates\n",
    "for feature in json_data['features']:\n",
    "    zipcode =  str(feature[\"properties\"]['ZCTA5CE10'])\n",
    "    #getting coordinates\n",
    "    cord = search.by_zipcode(zipcode)\n",
    "    cord = cord.to_dict()\n",
    "    zipcode_cords[zipcode] = [cord['lat'] , cord['lng'] ] \n",
    "    \n",
    "\n",
    "    \n",
    "\n"
   ]
  },
  {
   "cell_type": "code",
   "execution_count": 54,
   "metadata": {},
   "outputs": [],
   "source": [
    "#getting weather for every zipcode\n",
    "DARKSKY_API_KEY = 'a373f6f5fe6c96eb8af38adb3c536ff6'\n",
    "\n",
    "darksky = DarkSky(DARKSKY_API_KEY)\n",
    "\n",
    "#powell cords\n",
    "latitude = 40.17\n",
    "longitude = -83.1\n",
    "\n",
    "# forecast = darksky.get_forecast(\n",
    "#     latitude, longitude,\n",
    "#     extend=False, # default `False`\n",
    "#     lang=languages.ENGLISH, # default `ENGLISH`\n",
    "#     units=units.AUTO, # default `auto`\n",
    "#     exclude=[weather.MINUTELY, weather.ALERTS] # default `[]`\n",
    "# )\n",
    "\n",
    "\n"
   ]
  },
  {
   "cell_type": "code",
   "execution_count": null,
   "metadata": {},
   "outputs": [],
   "source": [
    "# forecast.values\n",
    "\n",
    "# help(darksky)\n",
    "print(forecast.daily.summary)\n",
    "# help(darksky.get_time_machine_forecast)\n",
    "# for x in forecast:\n",
    "#     print(x)\n",
    "# print(forecast.get_time_)"
   ]
  },
  {
   "cell_type": "code",
   "execution_count": null,
   "metadata": {
    "scrolled": true
   },
   "outputs": [],
   "source": [
    "# from datetime import timestamp\n",
    "# import datetime.timestamp\n",
    "import datetime\n",
    "import time\n",
    "\n",
    "\n",
    "date_old = pd.to_datetime(\"2018-02-07\")\n",
    "        \n",
    "forecast2 = darksky.get_time_machine_forecast(\n",
    "    latitude, longitude,\n",
    "    time = date_old,\n",
    "    extend=False, # default `False`\n",
    "    lang=languages.ENGLISH, # default `ENGLISH`\n",
    "    units=units.AUTO, # default `auto`\n",
    ")"
   ]
  },
  {
   "cell_type": "code",
   "execution_count": null,
   "metadata": {},
   "outputs": [],
   "source": [
    "# help(forecast.daily)'precip_type\n",
    "print(forecast2.daily.summary)\n",
    "\n",
    "# print(forecast.daily.data_class.__annotations__['sunset_time'])\n",
    "\n",
    "\n",
    "# # print(forecast.daily.data_class.sunset_time)\n",
    "# for i in forecast.daily.__dict__:\n",
    "#     print(i)\n",
    "    "
   ]
  },
  {
   "cell_type": "code",
   "execution_count": 53,
   "metadata": {},
   "outputs": [],
   "source": [
    "\n",
    "def fetch_historical_weather(date, latitude, longitude):\n",
    "    # Create URL template\n",
    "    url_template = \"https://api.darksky.net/forecast/{}/{},{},{}?exclude=currently,hourly\"\n",
    "\n",
    "    # Create request URL\n",
    "    request_url = url_template.format(\n",
    "        DARKSKY_API_KEY,\n",
    "        latitude,\n",
    "        longitude,\n",
    "        date)\n",
    "\n",
    "    # Get historical weather data as JSON \n",
    "    response = requests.get(request_url)\n",
    "\n",
    "    # Handle unsuccessful response code\n",
    "    if not response.ok:\n",
    "        print(response.json())\n",
    "\n",
    "\n",
    "    # Get JSON response\n",
    "    json_data = response.json()\n",
    "\n",
    "    data = json_data['daily']['data'][0]\n",
    "\n",
    "    return data"
   ]
  },
  {
   "cell_type": "code",
   "execution_count": null,
   "metadata": {},
   "outputs": [],
   "source": [
    "#time big snow storm happened\n",
    "\n",
    "# iterate through zipcodes\n",
    "    # find cord of zipcode\n",
    "    # find weather\n",
    "    \n",
    "    #append to meta dictionary meta_dic[cord] = weather\n",
    "    \n",
    "# for zipcode in dictionary\n",
    "    #try:\n",
    "        #retrieve snowfall\n",
    "        #dic[cord] = precip_accum\n",
    "    #except:\n",
    "       #dic[cord] = 0\n",
    "\n",
    "#create function to groupzipcode by precip amount\n",
    "    # parameter to control how many buckets there are\n",
    "    # returns dictionary of bucket increments\n",
    "    \n",
    "# figure out how to parse json file by zipcode\n",
    "    #create function to retrieve all json files for given zipcode\n",
    "\n",
    "#create insane meta dictionary for creating vizualization"
   ]
  },
  {
   "cell_type": "code",
   "execution_count": null,
   "metadata": {},
   "outputs": [],
   "source": [
    "date = 1517922000\n",
    "date = 1518008400 #hard coded\n",
    "# date =  1517835600 #feb 5, 2018\n",
    "date = 1549046000 #feb 1st, 2019\n",
    "# date = 1548939600 # jan 31st, 2019\n",
    "# date = 549112400 # #feb 2nd, 2019\n",
    "\n",
    "latitude = 40.17\n",
    "longitude = -83.1\n",
    "\n",
    "data = fetch_historical_weather(date, latitude, longitude)\n",
    "\n",
    "print(data)\n",
    "print(data['precipType'])\n",
    "print(data['precipAccumulation'])"
   ]
  },
  {
   "cell_type": "code",
   "execution_count": 66,
   "metadata": {},
   "outputs": [
    {
     "name": "stdout",
     "output_type": "stream",
     "text": [
      "{'time': 1458885600, 'summary': 'Flurries in the afternoon and evening.', 'icon': 'snow', 'sunriseTime': 1458910965, 'sunsetTime': 1458955537, 'moonPhase': 0.58, 'precipIntensity': 0.0021, 'precipIntensityMax': 0.0145, 'precipIntensityMaxTime': 1458954000, 'precipProbability': 0.65, 'precipType': 'snow', 'precipAccumulation': 0.68, 'temperatureHigh': 28.24, 'temperatureHighTime': 1458925200, 'temperatureLow': 7.41, 'temperatureLowTime': 1458990000, 'apparentTemperatureHigh': 25.09, 'apparentTemperatureHighTime': 1458918000, 'apparentTemperatureLow': 7.41, 'apparentTemperatureLowTime': 1458990000, 'dewPoint': 20.83, 'humidity': 0.87, 'pressure': 1008.4, 'windSpeed': 3.56, 'windGust': 14.4, 'windGustTime': 1458928800, 'windBearing': 306, 'cloudCover': 0.96, 'uvIndex': 5, 'uvIndexTime': 1458928800, 'visibility': 2.915, 'temperatureMin': 17.42, 'temperatureMinTime': 1458972000, 'temperatureMax': 28.24, 'temperatureMaxTime': 1458925200, 'apparentTemperatureMin': 16.51, 'apparentTemperatureMinTime': 1458957600, 'apparentTemperatureMax': 25.6, 'apparentTemperatureMaxTime': 1458885600}\n",
      "snow\n",
      "0.68\n"
     ]
    }
   ],
   "source": [
    "denver_snow_date = 1458851460 + 86400 * 1 #March 24, 2016\n",
    "denver_lat = 39.1\n",
    "denver_long = -106.82\n",
    "\n",
    "data = fetch_historical_weather(denver_snow_date, denver_lat, denver_long)\n",
    "\n",
    "print(data)\n",
    "print(data['precipType'])\n",
    "print(data['precipAccumulation'])\n"
   ]
  }
 ],
 "metadata": {
  "kernelspec": {
   "display_name": "Python 3",
   "language": "python",
   "name": "python3"
  },
  "language_info": {
   "codemirror_mode": {
    "name": "ipython",
    "version": 3
   },
   "file_extension": ".py",
   "mimetype": "text/x-python",
   "name": "python",
   "nbconvert_exporter": "python",
   "pygments_lexer": "ipython3",
   "version": "3.7.3"
  },
  "latex_envs": {
   "LaTeX_envs_menu_present": true,
   "autoclose": false,
   "autocomplete": true,
   "bibliofile": "biblio.bib",
   "cite_by": "apalike",
   "current_citInitial": 1,
   "eqLabelWithNumbers": true,
   "eqNumInitial": 1,
   "hotkeys": {
    "equation": "Ctrl-E",
    "itemize": "Ctrl-I"
   },
   "labels_anchors": false,
   "latex_user_defs": false,
   "report_style_numbering": false,
   "user_envs_cfg": false
  },
  "varInspector": {
   "cols": {
    "lenName": 16,
    "lenType": 16,
    "lenVar": 40
   },
   "kernels_config": {
    "python": {
     "delete_cmd_postfix": "",
     "delete_cmd_prefix": "del ",
     "library": "var_list.py",
     "varRefreshCmd": "print(var_dic_list())"
    },
    "r": {
     "delete_cmd_postfix": ") ",
     "delete_cmd_prefix": "rm(",
     "library": "var_list.r",
     "varRefreshCmd": "cat(var_dic_list()) "
    }
   },
   "types_to_exclude": [
    "module",
    "function",
    "builtin_function_or_method",
    "instance",
    "_Feature"
   ],
   "window_display": false
  }
 },
 "nbformat": 4,
 "nbformat_minor": 2
}
